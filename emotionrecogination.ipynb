{
  "nbformat": 4,
  "nbformat_minor": 0,
  "metadata": {
    "colab": {
      "provenance": []
    },
    "kernelspec": {
      "name": "python3",
      "display_name": "Python 3"
    },
    "language_info": {
      "name": "python"
    }
  },
  "cells": [
    {
      "cell_type": "code",
      "execution_count": 2,
      "metadata": {
        "colab": {
          "base_uri": "https://localhost:8080/"
        },
        "id": "yrC19_of5rM3",
        "outputId": "bb332fd6-f2fd-4c6c-e8cd-29aae5996303"
      },
      "outputs": [
        {
          "output_type": "stream",
          "name": "stdout",
          "text": [
            "Classification Report:\n",
            "\n",
            "              precision    recall  f1-score   support\n",
            "\n",
            "       angry       0.00      0.00      0.00         9\n",
            "       happy       0.22      0.20      0.21        10\n",
            "     neutral       0.25      0.27      0.26        11\n",
            "         sad       0.20      0.10      0.13        10\n",
            "\n",
            "    accuracy                           0.15        40\n",
            "   macro avg       0.17      0.14      0.15        40\n",
            "weighted avg       0.17      0.15      0.16        40\n",
            "\n"
          ]
        }
      ],
      "source": [
        "# Emotion Recognition from Speech - Simulated\n",
        "import numpy as np\n",
        "import pandas as pd\n",
        "from sklearn.model_selection import train_test_split\n",
        "from sklearn.preprocessing import LabelEncoder\n",
        "from sklearn.ensemble import RandomForestClassifier\n",
        "from sklearn.metrics import classification_report\n",
        "\n",
        "# Simulate dataset (normally you would extract features from audio using librosa)\n",
        "# Features could be: MFCCs, Chroma, Mel, Spectral Contrast etc.\n",
        "np.random.seed(42)\n",
        "n_samples = 200\n",
        "n_features = 40  # Simulated features like MFCCs\n",
        "X = np.random.rand(n_samples, n_features)\n",
        "y = np.random.choice(['happy', 'sad', 'angry', 'neutral'], size=n_samples)\n",
        "\n",
        "# Encode labels\n",
        "encoder = LabelEncoder()\n",
        "y_encoded = encoder.fit_transform(y)\n",
        "\n",
        "# Split dataset\n",
        "X_train, X_test, y_train, y_test = train_test_split(X, y_encoded, test_size=0.2, random_state=42)\n",
        "\n",
        "# Train model\n",
        "model = RandomForestClassifier(n_estimators=100, random_state=42)\n",
        "model.fit(X_train, y_train)\n",
        "\n",
        "# Predict\n",
        "y_pred = model.predict(X_test)\n",
        "\n",
        "# Report\n",
        "print(\"Classification Report:\\n\")\n",
        "print(classification_report(y_test, y_pred, target_names=encoder.classes_))\n"
      ]
    }
  ]
}